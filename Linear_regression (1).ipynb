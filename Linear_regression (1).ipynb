{
 "cells": [
  {
   "cell_type": "code",
   "execution_count": 53,
   "metadata": {},
   "outputs": [],
   "source": [
    "import numpy as np\n",
    "import pandas as pd\n",
    "#import matplotlib.pyplot as plt\n",
    "class linear_regression:\n",
    "    def __init__(self,x,y,noof_iter,learning_rate):\n",
    "        self.X=x\n",
    "        self.y=y\n",
    "        self.learning_rate=learning_rate\n",
    "        self.no_of_iter=noof_iter\n",
    "        a1,b1=np.random.randn(2)\n",
    "        self.m_initial=np.abs(a1)\n",
    "        self.b_initial=np.abs(b1)\n",
    "        mm,bb=gradient(m,b,X,y)\n",
    "        self.weight=mm\n",
    "        self.bias=bb\n",
    "        print(\"The initial m={} ,b={} and cost is equal to {}\".format(m,b,costfunct(X,y,mm,bb)))\n",
    "        print(\"The final value is :b={},m={},cost={}\".format(mm,bb,costfunct(X,y,mm,bb)))\n",
    "#function to calculate the cost function :\n",
    "    def costfunct(x1,y1,b1,m1):\n",
    "        cost=0\n",
    "        n=len(x1)\n",
    "        for i in range(n):\n",
    "            cost+=(y1-(m1*x1 +b1))**2\n",
    "            cost=cost/n\n",
    "            return(cost)\n",
    "#Functiion to calculate the weight and bias :\n",
    "    def gradient_booster(x1,y2,init_m,init_b):\n",
    "        x11=x1\n",
    "        y11=y1\n",
    "        n1=len(x11)\n",
    "        grad_m=0\n",
    "        grad_b=0\n",
    "        for i in range(len(x11)):    \n",
    "            grad_m=grad_m +(-2/n1)*(x11)*(y1-(init_m*x11 +init_b))\n",
    "            grad_b=grad_b +(-2/n1)* (y1-(init_m*x11 +init_b))\n",
    "        final_m= init_m- learning_rate*(grad_m)\n",
    "        final_b= init_b-learning_rate*(grad_b)\n",
    "        return [final_m,final_b]\n",
    "#Function to predict the gradient :\n",
    "    def gradient(m,b,x,y):\n",
    "        X=x\n",
    "        Y=y\n",
    "        initial_m=m\n",
    "        initial_b=b\n",
    "        for i in range(no_of_iter):\n",
    "            m,b =gradient_booster(X,Y,initial_m,initial_b)\n",
    "        return([m,b])\n",
    "# Function to predict the result\n",
    "    def fit(x1):\n",
    "        return(weight*x1 + bias)\n",
    "\n"
   ]
  },
  {
   "cell_type": "code",
   "execution_count": 47,
   "metadata": {},
   "outputs": [],
   "source": []
  },
  {
   "cell_type": "code",
   "execution_count": 48,
   "metadata": {},
   "outputs": [],
   "source": []
  },
  {
   "cell_type": "code",
   "execution_count": null,
   "metadata": {},
   "outputs": [],
   "source": []
  },
  {
   "cell_type": "code",
   "execution_count": null,
   "metadata": {},
   "outputs": [],
   "source": []
  }
 ],
 "metadata": {
  "kernelspec": {
   "display_name": "Python 3",
   "language": "python",
   "name": "python3"
  },
  "language_info": {
   "codemirror_mode": {
    "name": "ipython",
    "version": 3
   },
   "file_extension": ".py",
   "mimetype": "text/x-python",
   "name": "python",
   "nbconvert_exporter": "python",
   "pygments_lexer": "ipython3",
   "version": "3.7.1"
  }
 },
 "nbformat": 4,
 "nbformat_minor": 2
}
